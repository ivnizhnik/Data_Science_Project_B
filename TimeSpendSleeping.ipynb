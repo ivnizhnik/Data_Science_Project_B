{
  "nbformat": 4,
  "nbformat_minor": 0,
  "metadata": {
    "colab": {
      "name": "TimeSpendSleeping.ipynb",
      "provenance": [],
      "collapsed_sections": [],
      "mount_file_id": "1PxFhj5y74_8TO6bqFO5TIG9-BRFZSwLk",
      "authorship_tag": "ABX9TyNxGl3wOujVuegOhu0Dz6/K",
      "include_colab_link": true
    },
    "kernelspec": {
      "name": "python3",
      "display_name": "Python 3"
    },
    "language_info": {
      "name": "python"
    }
  },
  "cells": [
    {
      "cell_type": "markdown",
      "metadata": {
        "id": "view-in-github",
        "colab_type": "text"
      },
      "source": [
        "<a href=\"https://colab.research.google.com/github/ivnizhnik/Data_Science_Project_B/blob/main/TimeSpendSleeping.ipynb\" target=\"_parent\"><img src=\"https://colab.research.google.com/assets/colab-badge.svg\" alt=\"Open In Colab\"/></a>"
      ]
    },
    {
      "cell_type": "code",
      "metadata": {
        "colab": {
          "base_uri": "https://localhost:8080/",
          "height": 221
        },
        "id": "pOq9WcIuoYCe",
        "outputId": "7ce3f463-f207-48e8-c7f7-e0b6e9c8463e"
      },
      "source": [
        "# Source of data: data.world\n",
        "\n",
        "from google.colab import drive\n",
        "drive.mount('/content/drive')\n",
        "\n",
        "import matplotlib.pyplot as plt\n",
        "import pandas as pd\n",
        "import seaborn as sns\n",
        "import numpy as np\n",
        "\n",
        "from sklearn.model_selection import train_test_split\n",
        "from sklearn.tree import DecisionTreeRegressor\n",
        "df = pd.read_excel('/content/drive/MyDrive/Data_Science_Project_A/Time Americans Spend Sleeping.xlsx')\n",
        "df.head()"
      ],
      "execution_count": 1,
      "outputs": [
        {
          "output_type": "stream",
          "name": "stdout",
          "text": [
            "Drive already mounted at /content/drive; to attempt to forcibly remount, call drive.mount(\"/content/drive\", force_remount=True).\n"
          ]
        },
        {
          "output_type": "execute_result",
          "data": {
            "text/html": [
              "<div>\n",
              "<style scoped>\n",
              "    .dataframe tbody tr th:only-of-type {\n",
              "        vertical-align: middle;\n",
              "    }\n",
              "\n",
              "    .dataframe tbody tr th {\n",
              "        vertical-align: top;\n",
              "    }\n",
              "\n",
              "    .dataframe thead th {\n",
              "        text-align: right;\n",
              "    }\n",
              "</style>\n",
              "<table border=\"1\" class=\"dataframe\">\n",
              "  <thead>\n",
              "    <tr style=\"text-align: right;\">\n",
              "      <th></th>\n",
              "      <th>Year</th>\n",
              "      <th>Period</th>\n",
              "      <th>Avg hrs per day sleeping</th>\n",
              "      <th>Standard Error</th>\n",
              "      <th>Type of Days</th>\n",
              "      <th>Age Group</th>\n",
              "      <th>Activity</th>\n",
              "      <th>Sex</th>\n",
              "    </tr>\n",
              "  </thead>\n",
              "  <tbody>\n",
              "    <tr>\n",
              "      <th>0</th>\n",
              "      <td>2003</td>\n",
              "      <td>Annual</td>\n",
              "      <td>8.57</td>\n",
              "      <td>0.018</td>\n",
              "      <td>All days</td>\n",
              "      <td>15 years and over</td>\n",
              "      <td>Sleeping</td>\n",
              "      <td>Both</td>\n",
              "    </tr>\n",
              "    <tr>\n",
              "      <th>1</th>\n",
              "      <td>2004</td>\n",
              "      <td>Annual</td>\n",
              "      <td>8.55</td>\n",
              "      <td>0.026</td>\n",
              "      <td>All days</td>\n",
              "      <td>15 years and over</td>\n",
              "      <td>Sleeping</td>\n",
              "      <td>Both</td>\n",
              "    </tr>\n",
              "    <tr>\n",
              "      <th>2</th>\n",
              "      <td>2005</td>\n",
              "      <td>Annual</td>\n",
              "      <td>8.62</td>\n",
              "      <td>0.023</td>\n",
              "      <td>All days</td>\n",
              "      <td>15 years and over</td>\n",
              "      <td>Sleeping</td>\n",
              "      <td>Both</td>\n",
              "    </tr>\n",
              "    <tr>\n",
              "      <th>3</th>\n",
              "      <td>2006</td>\n",
              "      <td>Annual</td>\n",
              "      <td>8.63</td>\n",
              "      <td>0.024</td>\n",
              "      <td>All days</td>\n",
              "      <td>15 years and over</td>\n",
              "      <td>Sleeping</td>\n",
              "      <td>Both</td>\n",
              "    </tr>\n",
              "    <tr>\n",
              "      <th>4</th>\n",
              "      <td>2007</td>\n",
              "      <td>Annual</td>\n",
              "      <td>8.57</td>\n",
              "      <td>0.024</td>\n",
              "      <td>All days</td>\n",
              "      <td>15 years and over</td>\n",
              "      <td>Sleeping</td>\n",
              "      <td>Both</td>\n",
              "    </tr>\n",
              "  </tbody>\n",
              "</table>\n",
              "</div>"
            ],
            "text/plain": [
              "   Year  Period  Avg hrs per day sleeping  ...          Age Group  Activity   Sex\n",
              "0  2003  Annual                      8.57  ...  15 years and over  Sleeping  Both\n",
              "1  2004  Annual                      8.55  ...  15 years and over  Sleeping  Both\n",
              "2  2005  Annual                      8.62  ...  15 years and over  Sleeping  Both\n",
              "3  2006  Annual                      8.63  ...  15 years and over  Sleeping  Both\n",
              "4  2007  Annual                      8.57  ...  15 years and over  Sleeping  Both\n",
              "\n",
              "[5 rows x 8 columns]"
            ]
          },
          "metadata": {},
          "execution_count": 1
        }
      ]
    },
    {
      "cell_type": "markdown",
      "metadata": {
        "id": "QEU-vA2IrM6k"
      },
      "source": [
        "***First choice: dataset 2***\n",
        "\n",
        "**1) Source of data:** data.world\n",
        "\n",
        "**2) Brief description of data:** The dataset consists of 8 columns/features and 945 rows/samples with zero missing data as well as zero duplicated rows. The brief statistical overview of the dataset provides a healthy start for data exploration and further analysis of time spend sleeping in the US.\n",
        "\n",
        "**3) What is the target?** target is average number of hours sleeping per day\n",
        "\n",
        "**4) Is this a classification or regression problem?** It's originally a regression problem as target is average number of hours slept per day.\n",
        "\n",
        "**5) How many features?** 8\n",
        "\n",
        "**6) How many rows of data?** 945\n",
        "\n",
        "**7) What, if any, challenges do your foresee in cleaning, exploring, or modeling with this dataset?** The feature age group has overlapping data that I need to figure out a way to sort out. Also, I could potentially turn the y into a binary variable (for instance slept less than 3 hours as very unhealthy, between 3-6 hours as unhealthy, and above hours as healthy)"
      ]
    },
    {
      "cell_type": "code",
      "metadata": {
        "colab": {
          "base_uri": "https://localhost:8080/"
        },
        "id": "0h3LCBTDrPr2",
        "outputId": "e8fb5f65-8dbc-4b55-9641-42cba236adf0"
      },
      "source": [
        "df.shape "
      ],
      "execution_count": 2,
      "outputs": [
        {
          "output_type": "execute_result",
          "data": {
            "text/plain": [
              "(945, 8)"
            ]
          },
          "metadata": {},
          "execution_count": 2
        }
      ]
    },
    {
      "cell_type": "code",
      "metadata": {
        "colab": {
          "base_uri": "https://localhost:8080/",
          "height": 297
        },
        "id": "pqlc1SKYrdvj",
        "outputId": "1ff1c37e-8026-4b00-ad04-6ac5afec7168"
      },
      "source": [
        "df.describe()"
      ],
      "execution_count": 3,
      "outputs": [
        {
          "output_type": "execute_result",
          "data": {
            "text/html": [
              "<div>\n",
              "<style scoped>\n",
              "    .dataframe tbody tr th:only-of-type {\n",
              "        vertical-align: middle;\n",
              "    }\n",
              "\n",
              "    .dataframe tbody tr th {\n",
              "        vertical-align: top;\n",
              "    }\n",
              "\n",
              "    .dataframe thead th {\n",
              "        text-align: right;\n",
              "    }\n",
              "</style>\n",
              "<table border=\"1\" class=\"dataframe\">\n",
              "  <thead>\n",
              "    <tr style=\"text-align: right;\">\n",
              "      <th></th>\n",
              "      <th>Year</th>\n",
              "      <th>Avg hrs per day sleeping</th>\n",
              "      <th>Standard Error</th>\n",
              "    </tr>\n",
              "  </thead>\n",
              "  <tbody>\n",
              "    <tr>\n",
              "      <th>count</th>\n",
              "      <td>945.000000</td>\n",
              "      <td>945.000000</td>\n",
              "      <td>945.000000</td>\n",
              "    </tr>\n",
              "    <tr>\n",
              "      <th>mean</th>\n",
              "      <td>2010.000000</td>\n",
              "      <td>8.806868</td>\n",
              "      <td>0.086958</td>\n",
              "    </tr>\n",
              "    <tr>\n",
              "      <th>std</th>\n",
              "      <td>4.322782</td>\n",
              "      <td>0.545001</td>\n",
              "      <td>0.034631</td>\n",
              "    </tr>\n",
              "    <tr>\n",
              "      <th>min</th>\n",
              "      <td>2003.000000</td>\n",
              "      <td>7.720000</td>\n",
              "      <td>0.018000</td>\n",
              "    </tr>\n",
              "    <tr>\n",
              "      <th>25%</th>\n",
              "      <td>2006.000000</td>\n",
              "      <td>8.360000</td>\n",
              "      <td>0.063000</td>\n",
              "    </tr>\n",
              "    <tr>\n",
              "      <th>50%</th>\n",
              "      <td>2010.000000</td>\n",
              "      <td>8.810000</td>\n",
              "      <td>0.084000</td>\n",
              "    </tr>\n",
              "    <tr>\n",
              "      <th>75%</th>\n",
              "      <td>2014.000000</td>\n",
              "      <td>9.190000</td>\n",
              "      <td>0.106000</td>\n",
              "    </tr>\n",
              "    <tr>\n",
              "      <th>max</th>\n",
              "      <td>2017.000000</td>\n",
              "      <td>10.650000</td>\n",
              "      <td>0.228000</td>\n",
              "    </tr>\n",
              "  </tbody>\n",
              "</table>\n",
              "</div>"
            ],
            "text/plain": [
              "              Year  Avg hrs per day sleeping  Standard Error\n",
              "count   945.000000                945.000000      945.000000\n",
              "mean   2010.000000                  8.806868        0.086958\n",
              "std       4.322782                  0.545001        0.034631\n",
              "min    2003.000000                  7.720000        0.018000\n",
              "25%    2006.000000                  8.360000        0.063000\n",
              "50%    2010.000000                  8.810000        0.084000\n",
              "75%    2014.000000                  9.190000        0.106000\n",
              "max    2017.000000                 10.650000        0.228000"
            ]
          },
          "metadata": {},
          "execution_count": 3
        }
      ]
    },
    {
      "cell_type": "code",
      "metadata": {
        "colab": {
          "base_uri": "https://localhost:8080/"
        },
        "id": "gpfJdDFkrg99",
        "outputId": "6ebdb3aa-c93c-4e5a-9e59-854f42610ce7"
      },
      "source": [
        "df.info()"
      ],
      "execution_count": 4,
      "outputs": [
        {
          "output_type": "stream",
          "name": "stdout",
          "text": [
            "<class 'pandas.core.frame.DataFrame'>\n",
            "RangeIndex: 945 entries, 0 to 944\n",
            "Data columns (total 8 columns):\n",
            " #   Column                    Non-Null Count  Dtype  \n",
            "---  ------                    --------------  -----  \n",
            " 0   Year                      945 non-null    int64  \n",
            " 1   Period                    945 non-null    object \n",
            " 2   Avg hrs per day sleeping  945 non-null    float64\n",
            " 3   Standard Error            945 non-null    float64\n",
            " 4   Type of Days              945 non-null    object \n",
            " 5   Age Group                 945 non-null    object \n",
            " 6   Activity                  945 non-null    object \n",
            " 7   Sex                       945 non-null    object \n",
            "dtypes: float64(2), int64(1), object(5)\n",
            "memory usage: 59.2+ KB\n"
          ]
        }
      ]
    },
    {
      "cell_type": "code",
      "metadata": {
        "colab": {
          "base_uri": "https://localhost:8080/"
        },
        "id": "yEHHKt6zrl6W",
        "outputId": "79609886-a9e0-4c17-c0a0-5d221362e846"
      },
      "source": [
        "df.isnull().sum()"
      ],
      "execution_count": 5,
      "outputs": [
        {
          "output_type": "execute_result",
          "data": {
            "text/plain": [
              "Year                        0\n",
              "Period                      0\n",
              "Avg hrs per day sleeping    0\n",
              "Standard Error              0\n",
              "Type of Days                0\n",
              "Age Group                   0\n",
              "Activity                    0\n",
              "Sex                         0\n",
              "dtype: int64"
            ]
          },
          "metadata": {},
          "execution_count": 5
        }
      ]
    },
    {
      "cell_type": "code",
      "metadata": {
        "colab": {
          "base_uri": "https://localhost:8080/"
        },
        "id": "9wSbzHIqrpWr",
        "outputId": "e8735671-4adb-4c90-f30d-f861e9e76a22"
      },
      "source": [
        "df.duplicated().sum()"
      ],
      "execution_count": 6,
      "outputs": [
        {
          "output_type": "execute_result",
          "data": {
            "text/plain": [
              "0"
            ]
          },
          "metadata": {},
          "execution_count": 6
        }
      ]
    }
  ]
}